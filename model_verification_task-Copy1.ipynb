{
 "cells": [
  {
   "cell_type": "markdown",
   "metadata": {},
   "source": [
    "# Practice assignment: Model verification"
   ]
  },
  {
   "cell_type": "markdown",
   "metadata": {
    "id": "2H5nOAbBix1d"
   },
   "source": [
    "In this programming assignment, you are going to work with a dataset based on the following data:\n",
    "\n",
    "https://archive.ics.uci.edu/ml/datasets/Communities+and+Crime\n",
    "\n",
    "_Citation:_\n",
    "\n",
    "* _U. S. Department of Commerce, Bureau of the Census, Census Of Population And Housing 1990 United States: Summary Tape File 1a & 3a (Computer Files)_\n",
    "\n",
    "* _U.S. Department Of Commerce, Bureau Of The Census Producer, Washington, DC and Inter-university Consortium for Political and Social Research Ann Arbor, Michigan. (1992)_\n",
    "\n",
    "* _U.S. Department of Justice, Bureau of Justice Statistics, Law Enforcement Management And Administrative Statistics (Computer File) U.S. Department Of Commerce, Bureau Of The Census Producer, Washington, DC and Inter-university Consortium for Political and Social Research Ann Arbor, Michigan. (1992)_\n",
    "\n",
    "* _U.S. Department of Justice, Federal Bureau of Investigation, Crime in the United States (Computer File) (1995)_\n",
    "\n",
    "* _Redmond, M. A. and A. Baveja: A Data-Driven Software Tool for Enabling Cooperative Information Sharing Among Police Departments. European Journal of Operational Research 141 (2002) 660-678._\n",
    "\n",
    "The dataset contains the information about the communities within the United States. It combines socio-economic data from the 1990 US Census, law enforcement data from the 1990 US LEMAS survey, and crime data from the 1995 FBI UCR.\n",
    "\n",
    "In this assignment, you are going to predict total number of violent crimes per 100K population (`ViolentCrimesPerPop`). The information about the features is available through the link above. You are going to construct several machine learning models and explain them, using different interpretability approaches."
   ]
  },
  {
   "cell_type": "code",
   "execution_count": 2,
   "metadata": {
    "id": "-TBMM6KZicLn"
   },
   "outputs": [],
   "source": [
    "import graphviz\n",
    "import matplotlib.pyplot as plt\n",
    "import numpy as np\n",
    "import pandas as pd\n",
    "import shap\n",
    "from lightgbm import LGBMRegressor\n",
    "from lime.lime_tabular import LimeTabularExplainer\n",
    "from sklearn.inspection import permutation_importance, plot_partial_dependence\n",
    "from sklearn.linear_model import LinearRegression\n",
    "from sklearn.metrics import mean_squared_error\n",
    "from sklearn.model_selection import KFold, train_test_split\n",
    "from sklearn.tree import DecisionTreeRegressor, plot_tree\n",
    "\n",
    "%matplotlib inline"
   ]
  },
  {
   "cell_type": "code",
   "execution_count": 3,
   "metadata": {
    "id": "CfLLHo8RinYR"
   },
   "outputs": [],
   "source": [
    "# data contain NaNs which are represented as question marks\n",
    "df = pd.read_csv('data.csv', na_values='?')"
   ]
  },
  {
   "cell_type": "code",
   "execution_count": 4,
   "metadata": {
    "id": "lmqMyFIdUPwz"
   },
   "outputs": [
    {
     "data": {
      "text/html": [
       "<div>\n",
       "<style scoped>\n",
       "    .dataframe tbody tr th:only-of-type {\n",
       "        vertical-align: middle;\n",
       "    }\n",
       "\n",
       "    .dataframe tbody tr th {\n",
       "        vertical-align: top;\n",
       "    }\n",
       "\n",
       "    .dataframe thead th {\n",
       "        text-align: right;\n",
       "    }\n",
       "</style>\n",
       "<table border=\"1\" class=\"dataframe\">\n",
       "  <thead>\n",
       "    <tr style=\"text-align: right;\">\n",
       "      <th></th>\n",
       "      <th>population</th>\n",
       "      <th>householdsize</th>\n",
       "      <th>racepctblack</th>\n",
       "      <th>racePctWhite</th>\n",
       "      <th>racePctAsian</th>\n",
       "      <th>racePctHisp</th>\n",
       "      <th>agePct12t21</th>\n",
       "      <th>agePct12t29</th>\n",
       "      <th>agePct16t24</th>\n",
       "      <th>agePct65up</th>\n",
       "      <th>...</th>\n",
       "      <th>LandArea</th>\n",
       "      <th>PopDens</th>\n",
       "      <th>PctUsePubTrans</th>\n",
       "      <th>PolicCars</th>\n",
       "      <th>PolicOperBudg</th>\n",
       "      <th>LemasPctPolicOnPatr</th>\n",
       "      <th>LemasGangUnitDeploy</th>\n",
       "      <th>LemasPctOfficDrugUn</th>\n",
       "      <th>PolicBudgPerPop</th>\n",
       "      <th>ViolentCrimesPerPop</th>\n",
       "    </tr>\n",
       "  </thead>\n",
       "  <tbody>\n",
       "    <tr>\n",
       "      <th>0</th>\n",
       "      <td>0.19</td>\n",
       "      <td>0.33</td>\n",
       "      <td>0.02</td>\n",
       "      <td>0.90</td>\n",
       "      <td>0.12</td>\n",
       "      <td>0.17</td>\n",
       "      <td>0.34</td>\n",
       "      <td>0.47</td>\n",
       "      <td>0.29</td>\n",
       "      <td>0.32</td>\n",
       "      <td>...</td>\n",
       "      <td>0.12</td>\n",
       "      <td>0.26</td>\n",
       "      <td>0.20</td>\n",
       "      <td>0.06</td>\n",
       "      <td>0.04</td>\n",
       "      <td>0.9</td>\n",
       "      <td>0.5</td>\n",
       "      <td>0.32</td>\n",
       "      <td>0.14</td>\n",
       "      <td>0.20</td>\n",
       "    </tr>\n",
       "    <tr>\n",
       "      <th>1</th>\n",
       "      <td>0.00</td>\n",
       "      <td>0.16</td>\n",
       "      <td>0.12</td>\n",
       "      <td>0.74</td>\n",
       "      <td>0.45</td>\n",
       "      <td>0.07</td>\n",
       "      <td>0.26</td>\n",
       "      <td>0.59</td>\n",
       "      <td>0.35</td>\n",
       "      <td>0.27</td>\n",
       "      <td>...</td>\n",
       "      <td>0.02</td>\n",
       "      <td>0.12</td>\n",
       "      <td>0.45</td>\n",
       "      <td>NaN</td>\n",
       "      <td>NaN</td>\n",
       "      <td>NaN</td>\n",
       "      <td>NaN</td>\n",
       "      <td>0.00</td>\n",
       "      <td>NaN</td>\n",
       "      <td>0.67</td>\n",
       "    </tr>\n",
       "    <tr>\n",
       "      <th>2</th>\n",
       "      <td>0.00</td>\n",
       "      <td>0.42</td>\n",
       "      <td>0.49</td>\n",
       "      <td>0.56</td>\n",
       "      <td>0.17</td>\n",
       "      <td>0.04</td>\n",
       "      <td>0.39</td>\n",
       "      <td>0.47</td>\n",
       "      <td>0.28</td>\n",
       "      <td>0.32</td>\n",
       "      <td>...</td>\n",
       "      <td>0.01</td>\n",
       "      <td>0.21</td>\n",
       "      <td>0.02</td>\n",
       "      <td>NaN</td>\n",
       "      <td>NaN</td>\n",
       "      <td>NaN</td>\n",
       "      <td>NaN</td>\n",
       "      <td>0.00</td>\n",
       "      <td>NaN</td>\n",
       "      <td>0.43</td>\n",
       "    </tr>\n",
       "    <tr>\n",
       "      <th>3</th>\n",
       "      <td>0.04</td>\n",
       "      <td>0.77</td>\n",
       "      <td>1.00</td>\n",
       "      <td>0.08</td>\n",
       "      <td>0.12</td>\n",
       "      <td>0.10</td>\n",
       "      <td>0.51</td>\n",
       "      <td>0.50</td>\n",
       "      <td>0.34</td>\n",
       "      <td>0.21</td>\n",
       "      <td>...</td>\n",
       "      <td>0.02</td>\n",
       "      <td>0.39</td>\n",
       "      <td>0.28</td>\n",
       "      <td>NaN</td>\n",
       "      <td>NaN</td>\n",
       "      <td>NaN</td>\n",
       "      <td>NaN</td>\n",
       "      <td>0.00</td>\n",
       "      <td>NaN</td>\n",
       "      <td>0.12</td>\n",
       "    </tr>\n",
       "    <tr>\n",
       "      <th>4</th>\n",
       "      <td>0.01</td>\n",
       "      <td>0.55</td>\n",
       "      <td>0.02</td>\n",
       "      <td>0.95</td>\n",
       "      <td>0.09</td>\n",
       "      <td>0.05</td>\n",
       "      <td>0.38</td>\n",
       "      <td>0.38</td>\n",
       "      <td>0.23</td>\n",
       "      <td>0.36</td>\n",
       "      <td>...</td>\n",
       "      <td>0.04</td>\n",
       "      <td>0.09</td>\n",
       "      <td>0.02</td>\n",
       "      <td>NaN</td>\n",
       "      <td>NaN</td>\n",
       "      <td>NaN</td>\n",
       "      <td>NaN</td>\n",
       "      <td>0.00</td>\n",
       "      <td>NaN</td>\n",
       "      <td>0.03</td>\n",
       "    </tr>\n",
       "  </tbody>\n",
       "</table>\n",
       "<p>5 rows × 123 columns</p>\n",
       "</div>"
      ],
      "text/plain": [
       "   population  householdsize  racepctblack  racePctWhite  racePctAsian  \\\n",
       "0        0.19           0.33          0.02          0.90          0.12   \n",
       "1        0.00           0.16          0.12          0.74          0.45   \n",
       "2        0.00           0.42          0.49          0.56          0.17   \n",
       "3        0.04           0.77          1.00          0.08          0.12   \n",
       "4        0.01           0.55          0.02          0.95          0.09   \n",
       "\n",
       "   racePctHisp  agePct12t21  agePct12t29  agePct16t24  agePct65up  ...  \\\n",
       "0         0.17         0.34         0.47         0.29        0.32  ...   \n",
       "1         0.07         0.26         0.59         0.35        0.27  ...   \n",
       "2         0.04         0.39         0.47         0.28        0.32  ...   \n",
       "3         0.10         0.51         0.50         0.34        0.21  ...   \n",
       "4         0.05         0.38         0.38         0.23        0.36  ...   \n",
       "\n",
       "   LandArea  PopDens  PctUsePubTrans  PolicCars  PolicOperBudg  \\\n",
       "0      0.12     0.26            0.20       0.06           0.04   \n",
       "1      0.02     0.12            0.45        NaN            NaN   \n",
       "2      0.01     0.21            0.02        NaN            NaN   \n",
       "3      0.02     0.39            0.28        NaN            NaN   \n",
       "4      0.04     0.09            0.02        NaN            NaN   \n",
       "\n",
       "   LemasPctPolicOnPatr  LemasGangUnitDeploy  LemasPctOfficDrugUn  \\\n",
       "0                  0.9                  0.5                 0.32   \n",
       "1                  NaN                  NaN                 0.00   \n",
       "2                  NaN                  NaN                 0.00   \n",
       "3                  NaN                  NaN                 0.00   \n",
       "4                  NaN                  NaN                 0.00   \n",
       "\n",
       "   PolicBudgPerPop  ViolentCrimesPerPop  \n",
       "0             0.14                 0.20  \n",
       "1              NaN                 0.67  \n",
       "2              NaN                 0.43  \n",
       "3              NaN                 0.12  \n",
       "4              NaN                 0.03  \n",
       "\n",
       "[5 rows x 123 columns]"
      ]
     },
     "execution_count": 4,
     "metadata": {},
     "output_type": "execute_result"
    }
   ],
   "source": [
    "df.head()"
   ]
  },
  {
   "cell_type": "markdown",
   "metadata": {
    "id": "ALJEZqzei0fK"
   },
   "source": [
    "## 1\n",
    "\n",
    "**q1:** How many null values does a feature `'PolicOperBudg'` contain?"
   ]
  },
  {
   "cell_type": "code",
   "execution_count": 1,
   "metadata": {
    "id": "RY1qB1vWUSZx"
   },
   "outputs": [],
   "source": [
    "# your code here\n",
    "# df[\"PolicOperBudg\"].isnull().sum()"
   ]
  },
  {
   "cell_type": "code",
   "execution_count": 6,
   "metadata": {},
   "outputs": [
    {
     "data": {
      "text/plain": [
       "Index(['numbUrban', 'pctUrban', 'medIncome', 'pctWWage', 'pctWFarmSelf',\n",
       "       'pctWInvInc', 'pctWSocSec', 'pctWPubAsst', 'pctWRetire', 'medFamInc',\n",
       "       ...\n",
       "       'LandArea', 'PopDens', 'PctUsePubTrans', 'PolicCars', 'PolicOperBudg',\n",
       "       'LemasPctPolicOnPatr', 'LemasGangUnitDeploy', 'LemasPctOfficDrugUn',\n",
       "       'PolicBudgPerPop', 'ViolentCrimesPerPop'],\n",
       "      dtype='object', length=113)"
      ]
     },
     "execution_count": 6,
     "metadata": {},
     "output_type": "execute_result"
    }
   ],
   "source": [
    "df.columns[10:]"
   ]
  },
  {
   "cell_type": "markdown",
   "metadata": {
    "id": "wzcZkd-Hi34S"
   },
   "source": [
    "## 2\n",
    "\n",
    "**q2:** What proportion of cells (number of such cells divided by the total number of cells) in the dataframe contain null values? Provide the answer (a number from 0 to 1), rounded to the nearest FIVE decimal places (e.g. 12.3456789 -> 12.34568)."
   ]
  },
  {
   "cell_type": "code",
   "execution_count": 2,
   "metadata": {
    "id": "ROSyJ5GiUUXd"
   },
   "outputs": [],
   "source": [
    "# your code here\n",
    "# 36851/(1994*123)"
   ]
  },
  {
   "cell_type": "code",
   "execution_count": 3,
   "metadata": {},
   "outputs": [],
   "source": [
    "# 22*1675+1"
   ]
  },
  {
   "cell_type": "markdown",
   "metadata": {
    "id": "6Qyk36uSi61i"
   },
   "source": [
    "## 3\n",
    "\n",
    "Fill all missing values with -1. \n",
    "\n",
    "**q3:** What is the mean value in the column `'PolicOperBudg'` now? Provide the answer (a number from 0 to 1), rounded to the nearest FIVE decimal places (e.g. 12.3456789 -> 12.34568)."
   ]
  },
  {
   "cell_type": "code",
   "execution_count": 9,
   "metadata": {},
   "outputs": [],
   "source": [
    "df[\"PolicOperBudg\"] = df[\"PolicOperBudg\"].fillna(-1)"
   ]
  },
  {
   "cell_type": "code",
   "execution_count": 4,
   "metadata": {},
   "outputs": [],
   "source": [
    "# df[\"PolicOperBudg\"].mean()"
   ]
  },
  {
   "cell_type": "markdown",
   "metadata": {
    "id": "dOIzMf6h6BFM"
   },
   "source": [
    "## 4"
   ]
  },
  {
   "cell_type": "markdown",
   "metadata": {
    "id": "XkNQTvPHF6al"
   },
   "source": [
    "We are ready to train some models. Before that, we separate the target from the dataframe with features (`df` -> `X`, `y`).\n",
    "\n",
    "Train a Decision Tree regressor from `sklearn` with `max_depth=5`, `max_leaf_nodes=10`, `random_state=13` and other default parameter values. Visualize a decision tree architecture via `plot_tree` function from `sklearn.tree`. \n",
    "\n",
    "**q4:** For the answer, provide the name of the feature which is taken to split the root node of the tree.\n",
    "\n",
    "_Hint. You might increase figure size by calling `plt.figure(figsize=<your_figsize>)`. Pay attention to the parameter `feature_names` in `plot_tree`._"
   ]
  },
  {
   "cell_type": "code",
   "execution_count": 11,
   "metadata": {
    "id": "Xrj1QXHO6TOA"
   },
   "outputs": [],
   "source": [
    "X = df.drop('ViolentCrimesPerPop', axis=1)\n",
    "y = df['ViolentCrimesPerPop']"
   ]
  },
  {
   "cell_type": "code",
   "execution_count": 1,
   "metadata": {},
   "outputs": [],
   "source": [
    "# df.racePctWhite"
   ]
  },
  {
   "cell_type": "code",
   "execution_count": 30,
   "metadata": {
    "id": "Kpc49aYJUdfq"
   },
   "outputs": [
    {
     "data": {
      "text/plain": [
       "[Text(558.0, 498.3, 'X[3] <= 0.8\\ngini = 0.667\\nsamples = 150\\nvalue = [50, 50, 50]'),\n",
       " Text(472.15384615384613, 407.70000000000005, 'gini = 0.0\\nsamples = 50\\nvalue = [50, 0, 0]'),\n",
       " Text(643.8461538461538, 407.70000000000005, 'X[3] <= 1.75\\ngini = 0.5\\nsamples = 100\\nvalue = [0, 50, 50]'),\n",
       " Text(343.38461538461536, 317.1, 'X[2] <= 4.95\\ngini = 0.168\\nsamples = 54\\nvalue = [0, 49, 5]'),\n",
       " Text(171.69230769230768, 226.5, 'X[3] <= 1.65\\ngini = 0.041\\nsamples = 48\\nvalue = [0, 47, 1]'),\n",
       " Text(85.84615384615384, 135.89999999999998, 'gini = 0.0\\nsamples = 47\\nvalue = [0, 47, 0]'),\n",
       " Text(257.53846153846155, 135.89999999999998, 'gini = 0.0\\nsamples = 1\\nvalue = [0, 0, 1]'),\n",
       " Text(515.0769230769231, 226.5, 'X[3] <= 1.55\\ngini = 0.444\\nsamples = 6\\nvalue = [0, 2, 4]'),\n",
       " Text(429.23076923076917, 135.89999999999998, 'gini = 0.0\\nsamples = 3\\nvalue = [0, 0, 3]'),\n",
       " Text(600.9230769230769, 135.89999999999998, 'X[2] <= 5.45\\ngini = 0.444\\nsamples = 3\\nvalue = [0, 2, 1]'),\n",
       " Text(515.0769230769231, 45.299999999999955, 'gini = 0.0\\nsamples = 2\\nvalue = [0, 2, 0]'),\n",
       " Text(686.7692307692307, 45.299999999999955, 'gini = 0.0\\nsamples = 1\\nvalue = [0, 0, 1]'),\n",
       " Text(944.3076923076923, 317.1, 'X[2] <= 4.85\\ngini = 0.043\\nsamples = 46\\nvalue = [0, 1, 45]'),\n",
       " Text(858.4615384615383, 226.5, 'X[1] <= 3.1\\ngini = 0.444\\nsamples = 3\\nvalue = [0, 1, 2]'),\n",
       " Text(772.6153846153845, 135.89999999999998, 'gini = 0.0\\nsamples = 2\\nvalue = [0, 0, 2]'),\n",
       " Text(944.3076923076923, 135.89999999999998, 'gini = 0.0\\nsamples = 1\\nvalue = [0, 1, 0]'),\n",
       " Text(1030.1538461538462, 226.5, 'gini = 0.0\\nsamples = 43\\nvalue = [0, 0, 43]')]"
      ]
     },
     "execution_count": 30,
     "metadata": {},
     "output_type": "execute_result"
    },
    {
     "data": {
      "image/png": "[encoded data removed]",
      "text/plain": [
       "<Figure size 1440x720 with 1 Axes>"
      ]
     },
     "metadata": {
      "needs_background": "light"
     },
     "output_type": "display_data"
    }
   ],
   "source": [
    "# your code here\n",
    "from sklearn.datasets import load_iris\n",
    "from sklearn import tree\n",
    "clf = tree.DecisionTreeClassifier(max_depth=5, max_leaf_nodes=10, random_state=13)\n",
    "iris = load_iris()\n",
    "clf = clf.fit(iris.data, iris.target)\n",
    "plt.figure(figsize=(20,10))\n",
    "tree.plot_tree(clf)\n",
    "# plt.figure(figsize=(20,10))"
   ]
  },
  {
   "cell_type": "markdown",
   "metadata": {
    "id": "vczd-VHkjvIA"
   },
   "source": [
    "## 5\n",
    "\n",
    "Read about different validation strategies:\n",
    "\n",
    "https://scikit-learn.org/stable/modules/cross_validation.html#cross-validation-iterators\n",
    "\n",
    "Split the data into 5 folds using `KFold` method from `sklearn`. Active shuffling of the data, use `random_state=13` and other default parameter values.\n",
    "\n",
    "**q5:** Calculate the mean value of the target in validation for each split of the data (`kf.split(df)`). What if the mean value of the target in validation in the FIRST such split? Provide the answer, rounded to the nearest FIVE decimal places (e.g. 12.3456789 -> 12.34568)."
   ]
  },
  {
   "cell_type": "code",
   "execution_count": 44,
   "metadata": {
    "id": "IdtXrA7WUgcO"
   },
   "outputs": [
    {
     "name": "stdout",
     "output_type": "stream",
     "text": [
      "(array([   0,    1,    2, ..., 1991, 1992, 1993]), array([   3,    5,   15,   16,   19,   22,   23,   24,   25,   26,   29,\n",
      "         30,   32,   33,   35,   44,   45,   52,   67,   70,   82,   83,\n",
      "         84,   85,   99,  103,  107,  110,  112,  115,  117,  129,  135,\n",
      "        142,  144,  152,  160,  163,  167,  170,  177,  185,  194,  195,\n",
      "        200,  201,  207,  210,  214,  215,  217,  224,  227,  228,  231,\n",
      "        240,  242,  248,  266,  267,  275,  284,  286,  289,  290,  291,\n",
      "        292,  293,  295,  304,  306,  316,  319,  320,  321,  329,  330,\n",
      "        346,  351,  362,  363,  364,  366,  381,  404,  405,  413,  418,\n",
      "        426,  433,  437,  440,  441,  442,  446,  448,  449,  452,  458,\n",
      "        470,  473,  480,  484,  489,  491,  506,  517,  518,  519,  523,\n",
      "        525,  540,  546,  557,  573,  576,  581,  589,  593,  595,  596,\n",
      "        603,  605,  613,  618,  620,  632,  639,  640,  643,  647,  648,\n",
      "        651,  659,  660,  661,  664,  667,  671,  680,  681,  682,  685,\n",
      "        691,  695,  697,  702,  709,  715,  717,  720,  726,  727,  733,\n",
      "        738,  745,  758,  761,  765,  767,  768,  776,  781,  784,  796,\n",
      "        800,  803,  808,  812,  816,  826,  839,  841,  845,  846,  849,\n",
      "        858,  864,  875,  885,  889,  893,  895,  896,  904,  910,  919,\n",
      "        925,  928,  929,  934,  937,  938,  946,  947,  949,  953,  954,\n",
      "        957,  960,  962,  965,  966,  968,  969,  971,  973,  975,  976,\n",
      "        997, 1004, 1019, 1023, 1034, 1042, 1051, 1063, 1066, 1068, 1070,\n",
      "       1077, 1080, 1089, 1094, 1097, 1098, 1100, 1102, 1103, 1111, 1113,\n",
      "       1118, 1121, 1122, 1126, 1130, 1134, 1148, 1149, 1157, 1160, 1166,\n",
      "       1170, 1175, 1183, 1185, 1189, 1191, 1192, 1200, 1204, 1208, 1209,\n",
      "       1222, 1223, 1224, 1232, 1235, 1236, 1238, 1242, 1244, 1248, 1254,\n",
      "       1257, 1261, 1262, 1270, 1271, 1278, 1285, 1293, 1301, 1317, 1318,\n",
      "       1321, 1322, 1330, 1332, 1351, 1361, 1364, 1371, 1372, 1378, 1380,\n",
      "       1381, 1382, 1395, 1397, 1398, 1403, 1412, 1414, 1417, 1423, 1432,\n",
      "       1435, 1447, 1450, 1459, 1468, 1469, 1472, 1475, 1477, 1490, 1495,\n",
      "       1500, 1506, 1509, 1510, 1518, 1529, 1531, 1539, 1546, 1548, 1554,\n",
      "       1562, 1566, 1571, 1575, 1576, 1577, 1580, 1584, 1585, 1597, 1598,\n",
      "       1601, 1603, 1623, 1625, 1633, 1635, 1643, 1647, 1662, 1667, 1670,\n",
      "       1687, 1702, 1707, 1712, 1716, 1718, 1723, 1727, 1748, 1749, 1755,\n",
      "       1758, 1759, 1764, 1768, 1769, 1770, 1781, 1782, 1783, 1794, 1798,\n",
      "       1828, 1830, 1835, 1842, 1845, 1846, 1848, 1852, 1854, 1868, 1871,\n",
      "       1878, 1881, 1882, 1883, 1890, 1893, 1895, 1929, 1933, 1938, 1939,\n",
      "       1941, 1947, 1948, 1953, 1960, 1963, 1967, 1975, 1976, 1981, 1984,\n",
      "       1986, 1987, 1990]))\n"
     ]
    },
    {
     "ename": "KeyError",
     "evalue": "\"None of [Int64Index([   0,    1,    2,    4,    6,    7,    8,    9,   10,   11,\\n            ...\\n            1979, 1980, 1982, 1983, 1985, 1988, 1989, 1991, 1992, 1993],\\n           dtype='int64', length=1595)] are in the [columns]\"",
     "output_type": "error",
     "traceback": [
      "\u001b[0;31m---------------------------------------------------------------------------\u001b[0m",
      "\u001b[0;31mKeyError\u001b[0m                                  Traceback (most recent call last)",
      "\u001b[0;32m<ipython-input-44-ecd14eae65cb>\u001b[0m in \u001b[0;36m<module>\u001b[0;34m\u001b[0m\n\u001b[1;32m      6\u001b[0m \u001b[0;32mfor\u001b[0m \u001b[0mtrain\u001b[0m\u001b[0;34m,\u001b[0m \u001b[0mtest\u001b[0m \u001b[0;32min\u001b[0m \u001b[0mkf\u001b[0m\u001b[0;34m.\u001b[0m\u001b[0msplit\u001b[0m\u001b[0;34m(\u001b[0m\u001b[0mX\u001b[0m\u001b[0;34m)\u001b[0m\u001b[0;34m:\u001b[0m\u001b[0;34m\u001b[0m\u001b[0;34m\u001b[0m\u001b[0m\n\u001b[1;32m      7\u001b[0m     \u001b[0mprint\u001b[0m\u001b[0;34m(\u001b[0m\u001b[0;34m(\u001b[0m\u001b[0mtrain\u001b[0m\u001b[0;34m,\u001b[0m\u001b[0mtest\u001b[0m\u001b[0;34m)\u001b[0m\u001b[0;34m)\u001b[0m\u001b[0;34m\u001b[0m\u001b[0;34m\u001b[0m\u001b[0m\n\u001b[0;32m----> 8\u001b[0;31m     \u001b[0mX_train\u001b[0m\u001b[0;34m,\u001b[0m \u001b[0mX_test\u001b[0m \u001b[0;34m=\u001b[0m \u001b[0mX\u001b[0m\u001b[0;34m[\u001b[0m\u001b[0mtrain\u001b[0m\u001b[0;34m]\u001b[0m\u001b[0;34m,\u001b[0m \u001b[0mX\u001b[0m\u001b[0;34m[\u001b[0m\u001b[0mtest\u001b[0m\u001b[0;34m]\u001b[0m\u001b[0;34m\u001b[0m\u001b[0;34m\u001b[0m\u001b[0m\n\u001b[0m\u001b[1;32m      9\u001b[0m     \u001b[0my_train\u001b[0m\u001b[0;34m,\u001b[0m \u001b[0my_test\u001b[0m \u001b[0;34m=\u001b[0m \u001b[0my\u001b[0m\u001b[0;34m[\u001b[0m\u001b[0mtrain\u001b[0m\u001b[0;34m]\u001b[0m\u001b[0;34m,\u001b[0m \u001b[0my\u001b[0m\u001b[0;34m[\u001b[0m\u001b[0mtest\u001b[0m\u001b[0;34m]\u001b[0m\u001b[0;34m\u001b[0m\u001b[0;34m\u001b[0m\u001b[0m\n",
      "\u001b[0;32m/opt/conda/lib/python3.7/site-packages/pandas/core/frame.py\u001b[0m in \u001b[0;36m__getitem__\u001b[0;34m(self, key)\u001b[0m\n\u001b[1;32m   2910\u001b[0m             \u001b[0;32mif\u001b[0m \u001b[0mis_iterator\u001b[0m\u001b[0;34m(\u001b[0m\u001b[0mkey\u001b[0m\u001b[0;34m)\u001b[0m\u001b[0;34m:\u001b[0m\u001b[0;34m\u001b[0m\u001b[0;34m\u001b[0m\u001b[0m\n\u001b[1;32m   2911\u001b[0m                 \u001b[0mkey\u001b[0m \u001b[0;34m=\u001b[0m \u001b[0mlist\u001b[0m\u001b[0;34m(\u001b[0m\u001b[0mkey\u001b[0m\u001b[0;34m)\u001b[0m\u001b[0;34m\u001b[0m\u001b[0;34m\u001b[0m\u001b[0m\n\u001b[0;32m-> 2912\u001b[0;31m             \u001b[0mindexer\u001b[0m \u001b[0;34m=\u001b[0m \u001b[0mself\u001b[0m\u001b[0;34m.\u001b[0m\u001b[0mloc\u001b[0m\u001b[0;34m.\u001b[0m\u001b[0m_get_listlike_indexer\u001b[0m\u001b[0;34m(\u001b[0m\u001b[0mkey\u001b[0m\u001b[0;34m,\u001b[0m \u001b[0maxis\u001b[0m\u001b[0;34m=\u001b[0m\u001b[0;36m1\u001b[0m\u001b[0;34m,\u001b[0m \u001b[0mraise_missing\u001b[0m\u001b[0;34m=\u001b[0m\u001b[0;32mTrue\u001b[0m\u001b[0;34m)\u001b[0m\u001b[0;34m[\u001b[0m\u001b[0;36m1\u001b[0m\u001b[0;34m]\u001b[0m\u001b[0;34m\u001b[0m\u001b[0;34m\u001b[0m\u001b[0m\n\u001b[0m\u001b[1;32m   2913\u001b[0m \u001b[0;34m\u001b[0m\u001b[0m\n\u001b[1;32m   2914\u001b[0m         \u001b[0;31m# take() does not accept boolean indexers\u001b[0m\u001b[0;34m\u001b[0m\u001b[0;34m\u001b[0m\u001b[0;34m\u001b[0m\u001b[0m\n",
      "\u001b[0;32m/opt/conda/lib/python3.7/site-packages/pandas/core/indexing.py\u001b[0m in \u001b[0;36m_get_listlike_indexer\u001b[0;34m(self, key, axis, raise_missing)\u001b[0m\n\u001b[1;32m   1252\u001b[0m             \u001b[0mkeyarr\u001b[0m\u001b[0;34m,\u001b[0m \u001b[0mindexer\u001b[0m\u001b[0;34m,\u001b[0m \u001b[0mnew_indexer\u001b[0m \u001b[0;34m=\u001b[0m \u001b[0max\u001b[0m\u001b[0;34m.\u001b[0m\u001b[0m_reindex_non_unique\u001b[0m\u001b[0;34m(\u001b[0m\u001b[0mkeyarr\u001b[0m\u001b[0;34m)\u001b[0m\u001b[0;34m\u001b[0m\u001b[0;34m\u001b[0m\u001b[0m\n\u001b[1;32m   1253\u001b[0m \u001b[0;34m\u001b[0m\u001b[0m\n\u001b[0;32m-> 1254\u001b[0;31m         \u001b[0mself\u001b[0m\u001b[0;34m.\u001b[0m\u001b[0m_validate_read_indexer\u001b[0m\u001b[0;34m(\u001b[0m\u001b[0mkeyarr\u001b[0m\u001b[0;34m,\u001b[0m \u001b[0mindexer\u001b[0m\u001b[0;34m,\u001b[0m \u001b[0maxis\u001b[0m\u001b[0;34m,\u001b[0m \u001b[0mraise_missing\u001b[0m\u001b[0;34m=\u001b[0m\u001b[0mraise_missing\u001b[0m\u001b[0;34m)\u001b[0m\u001b[0;34m\u001b[0m\u001b[0;34m\u001b[0m\u001b[0m\n\u001b[0m\u001b[1;32m   1255\u001b[0m         \u001b[0;32mreturn\u001b[0m \u001b[0mkeyarr\u001b[0m\u001b[0;34m,\u001b[0m \u001b[0mindexer\u001b[0m\u001b[0;34m\u001b[0m\u001b[0;34m\u001b[0m\u001b[0m\n\u001b[1;32m   1256\u001b[0m \u001b[0;34m\u001b[0m\u001b[0m\n",
      "\u001b[0;32m/opt/conda/lib/python3.7/site-packages/pandas/core/indexing.py\u001b[0m in \u001b[0;36m_validate_read_indexer\u001b[0;34m(self, key, indexer, axis, raise_missing)\u001b[0m\n\u001b[1;32m   1296\u001b[0m             \u001b[0;32mif\u001b[0m \u001b[0mmissing\u001b[0m \u001b[0;34m==\u001b[0m \u001b[0mlen\u001b[0m\u001b[0;34m(\u001b[0m\u001b[0mindexer\u001b[0m\u001b[0;34m)\u001b[0m\u001b[0;34m:\u001b[0m\u001b[0;34m\u001b[0m\u001b[0;34m\u001b[0m\u001b[0m\n\u001b[1;32m   1297\u001b[0m                 \u001b[0maxis_name\u001b[0m \u001b[0;34m=\u001b[0m \u001b[0mself\u001b[0m\u001b[0;34m.\u001b[0m\u001b[0mobj\u001b[0m\u001b[0;34m.\u001b[0m\u001b[0m_get_axis_name\u001b[0m\u001b[0;34m(\u001b[0m\u001b[0maxis\u001b[0m\u001b[0;34m)\u001b[0m\u001b[0;34m\u001b[0m\u001b[0;34m\u001b[0m\u001b[0m\n\u001b[0;32m-> 1298\u001b[0;31m                 \u001b[0;32mraise\u001b[0m \u001b[0mKeyError\u001b[0m\u001b[0;34m(\u001b[0m\u001b[0;34mf\"None of [{key}] are in the [{axis_name}]\"\u001b[0m\u001b[0;34m)\u001b[0m\u001b[0;34m\u001b[0m\u001b[0;34m\u001b[0m\u001b[0m\n\u001b[0m\u001b[1;32m   1299\u001b[0m \u001b[0;34m\u001b[0m\u001b[0m\n\u001b[1;32m   1300\u001b[0m             \u001b[0;31m# We (temporarily) allow for some missing keys with .loc, except in\u001b[0m\u001b[0;34m\u001b[0m\u001b[0;34m\u001b[0m\u001b[0;34m\u001b[0m\u001b[0m\n",
      "\u001b[0;31mKeyError\u001b[0m: \"None of [Int64Index([   0,    1,    2,    4,    6,    7,    8,    9,   10,   11,\\n            ...\\n            1979, 1980, 1982, 1983, 1985, 1988, 1989, 1991, 1992, 1993],\\n           dtype='int64', length=1595)] are in the [columns]\""
     ]
    }
   ],
   "source": [
    "# your code here\n",
    "import numpy as np\n",
    "from sklearn.model_selection import KFold\n",
    "\n",
    "kf = KFold(n_splits=5, random_state=13, shuffle=True)\n",
    "for train, test in kf.split(X):\n",
    "    print((train,test))\n",
    "    X_train, X_test = X[train], X[test]\n",
    "    y_train, y_test = y[train], y[test]"
   ]
  },
  {
   "cell_type": "markdown",
   "metadata": {
    "id": "HsvAuFgOmrRy"
   },
   "source": [
    "## 6\n",
    "\n",
    "Use the same KFold splitting as in the task 5. On each step of cross-validation, train Linear Regression from `sklearn` with the default parameters on train folds, make a prediction on the validation fold and compute its Mean Squared Error with the true target values. After running the cross-validation process, you should obtain five different MSE values. \n",
    "\n",
    "**q6:** What is their mean (mean CV score)? Provide the answer, rounded to the nearest FIVE decimal places (e.g. 12.3456789 -> 12.34568)."
   ]
  },
  {
   "cell_type": "code",
   "execution_count": 34,
   "metadata": {
    "id": "KjRJEBt2Uk94"
   },
   "outputs": [
    {
     "name": "stdout",
     "output_type": "stream",
     "text": [
      "(1003.4219435736677, 968.8295739348371)\n",
      "(987.6394984326018, 1031.919799498747)\n",
      "(1012.894670846395, 930.9624060150376)\n",
      "(987.6733542319749, 1031.7844611528822)\n",
      "(990.874060150376, 1019.0603015075377)\n"
     ]
    }
   ],
   "source": [
    "# your code here\n",
    "import numpy as np\n",
    "from sklearn.model_selection import KFold\n",
    "\n",
    "kf = KFold(n_splits=5, random_state=13, shuffle=True)\n",
    "for train, test in kf.split(X):\n",
    "    print((train.mean(),test.mean()))"
   ]
  },
  {
   "cell_type": "markdown",
   "metadata": {
    "id": "XudkyD3Mpk-J"
   },
   "source": [
    "## 7\n",
    "\n",
    "Using the same training procedure as in the the task 6, compute feature importances of linear regression model on each step of your 5-fold cross-validation. Since all our features are from the range 0 to 1, we can think of linear regression weights as feature importances. Store them in some convenient data structure, so that it is easy to access a certain feature importance on a cetrain fold. For instance, you can store them in such dataframe:\n",
    "\n",
    "||fold_1|fold_2|...|\n",
    "|-|-|-|-|\n",
    "|feature_1|0.05|0.5|...|\n",
    "|feature_2|-0.6|-1.8|...|\n",
    "|...|...|...|...|\n",
    "\n",
    "**q7:** What is the importance of `'NumUnderPov'` feature on fold #4 (if we enumerate folds, starting with 1 - folds #1, #2, #3, #4, #5)? Provide the answer, rounded to the nearest FIVE decimal places (e.g. 12.3456789 -> 12.34568)."
   ]
  },
  {
   "cell_type": "code",
   "execution_count": null,
   "metadata": {
    "id": "JfWq5zvKUm5I"
   },
   "outputs": [],
   "source": [
    "# your code here"
   ]
  },
  {
   "cell_type": "markdown",
   "metadata": {
    "id": "Ll4Xe6CKqxmh"
   },
   "source": [
    "## 8\n",
    "\n",
    "In the task 7, we have computed feature importances on each fold. How to compute feature importances in general - on the whole data? One way is to simply compute the average of these feature importances that we have already obtained.\n",
    "\n",
    "For each feature, take its importances on each fold and compute their mean value. In practice, it is easy to do if you store your data in the dataframe.\n",
    "\n",
    "**q8:** What is the most important feature according to the linear regression? Provide the name of the feature with the highest ABSOLUTE VALUE of the mean feature importance.\n",
    "\n",
    "Look at the description of this feature. How do you think - why it can be considered as an important feature for the model?"
   ]
  },
  {
   "cell_type": "code",
   "execution_count": null,
   "metadata": {
    "id": "NtqN61FwUpUJ"
   },
   "outputs": [],
   "source": [
    "# your code here"
   ]
  },
  {
   "cell_type": "markdown",
   "metadata": {
    "id": "O2XoFOrMossQ"
   },
   "source": [
    "## 9\n",
    "\n",
    "Now use a regular train/test split (a method from `sklearn`) to split `X` and `y` into train and validation parts in the ratio 4:1. Use `random_state=13` and other default parameter values of `train_test_split`.\n",
    "\n",
    "Take a LightGBM Regressor from `lightgbm` with 1000 trees, maximum depth equal to 4, `random_state=13` and other default parameter values. Train it on the train part. Compute its mean squared error on the validation part. \n",
    "\n",
    "**q9:** What is this mean squared error equal to? Provide the answer, rounded to the nearest FIVE decimal places (e.g. 12.3456789 -> 12.34568)."
   ]
  },
  {
   "cell_type": "code",
   "execution_count": null,
   "metadata": {
    "id": "IUOvTxteUtff"
   },
   "outputs": [],
   "source": [
    "# your code here"
   ]
  },
  {
   "cell_type": "markdown",
   "metadata": {
    "id": "cfU6obu6OsY9"
   },
   "source": [
    "## 10\n",
    "\n",
    "In this and all the following tasks, use the trained LightGBM model from the task 9.\n",
    "\n",
    "Calculate its feature importances (method `feature_importances_`). Sort these values. \n",
    "\n",
    "**q10:** What is the name of the SIXTH most important feature?\n",
    "\n",
    "Look at the description of this feature. How do you think - why it can be considered as an important feature for the model?"
   ]
  },
  {
   "cell_type": "code",
   "execution_count": null,
   "metadata": {
    "id": "AOb3I4LEUvll"
   },
   "outputs": [],
   "source": [
    "# your code here"
   ]
  },
  {
   "cell_type": "markdown",
   "metadata": {
    "id": "EYr91-PIPGS2"
   },
   "source": [
    "## 11\n",
    "\n",
    "Answer the question, using Partial Dependence Plots for the following features:\n",
    "\n",
    "* `'PctVacMore6Mos'`\n",
    "* `'indianPerCap'`\n",
    "* `'OtherPerCap'`\n",
    "* `'racePctHisp'`\n",
    "* `'NumStreet'`\n",
    "* `'PctPolicAsian'`\n",
    "\n",
    "Suppose that you increase feature value from minimum to maximum for all observations. \n",
    "\n",
    "**q11:** For how many of the abovementioned features, this change results in the negative trend of the prediction on the validation set? In a more formal way, compute the number (from 0 to 6) of features such that their maximum value produces a smaller average prediction value than their minimum value.\n",
    "\n",
    "Read the description of the mentioned features. How do you think - why do you observe such trends for this features?\n",
    "\n",
    "You can use `plot_partial_dependence` function from `sklearn.inspection` with `random_state=13`. Other non-required parameters can have default values.\n",
    "\n",
    "_Hint: to make plots bigger, you can initiate your figure with `fig, ax = plt.subplots(figsize=<your_figsize>)`, and then pass `ax=ax` parameter into the PDP function._"
   ]
  },
  {
   "cell_type": "code",
   "execution_count": null,
   "metadata": {
    "id": "duvXay7MUxww"
   },
   "outputs": [],
   "source": [
    "# your code here"
   ]
  },
  {
   "cell_type": "markdown",
   "metadata": {
    "id": "N3HjydOae3yb"
   },
   "source": [
    "## 12\n",
    "\n",
    "Now compute the most important feature for the model, using permutation importance technique. Use `sklearn.inspection.permutation_importance` function for the model on the validation set. Measure permutation importance according to the MSE (`scoring='neg_mean_squared_error'`). Repeat the procedure 7 times (`n_repeats=7`). Use `random_state=13` and other default parameter values.\n",
    "\n",
    "**q12:** What is the most important feature? Provide the name of this feature for the answer. What do you think, why is this feature important?"
   ]
  },
  {
   "cell_type": "code",
   "execution_count": null,
   "metadata": {
    "id": "CNlhj_V3Uzgl"
   },
   "outputs": [],
   "source": [
    "# your code here"
   ]
  },
  {
   "cell_type": "markdown",
   "metadata": {
    "id": "sWwaiOgwg0j-"
   },
   "source": [
    "## 13\n",
    "\n",
    "Now we will use LIME method to explain model prediction. Take `LimeTabularExplainer` from `lime`. Initialize it with `training_data=X_train.values` (it is not possible at the time to use `pandas.DataFrame` here, so instead we use `numpy.array`), `mode='regression'`, `feature_names=X_train.columns`, `random_state=13` and other default parameter values.\n",
    "\n",
    "Using this explainer, explain model prediction for the first observation in the validation set (`X_val.iloc[0]`), with maximum number of features equal to 10 (`num_features=10` - this is the default parameter value for `explainer.explain_instance` function). Visualize the result (`exp.show_in_notebook(show_table=True)`).\n",
    "\n",
    "**q13:** How many features among top-10 for this observation make a positive impact on the prediction (increase the predicted value)? As an answer, provide the number from 0 to 10.\n",
    "\n",
    "Think about how you could explain this model behaviour, seeing the results of LIME method."
   ]
  },
  {
   "cell_type": "code",
   "execution_count": null,
   "metadata": {
    "id": "dVbOBCIUU1vT"
   },
   "outputs": [],
   "source": [
    "# your code here"
   ]
  },
  {
   "cell_type": "markdown",
   "metadata": {
    "id": "lkrOscuX84qp"
   },
   "source": [
    "## 14\n",
    "\n",
    "Now use SHAP values to explain the prediction. Take `TreeExplainer` from `shap` and initialize it for the original model. Compute shap values by running `explainer.shap_values` on the validation set. Plot the explanation of model prediction for the last observation in the validation set via `shap.force_plot` with the following parameter values:\n",
    "\n",
    "* `base_value=explainer.expected_value` - the reference value that the feature contributions start from;\n",
    "* `shap_values=shap_values[-1, :]` - SHAP values for the last observation in the validation set;\n",
    "* `features=X_val.iloc[-1, :]` - feature values for the last observation in the validation set;\n",
    "* `matplotlib=True` - use matplotlib instead of Javascript to visualize the results;\n",
    "* other default parameter values.\n",
    "\n",
    "Looking at the result, answer the following question. \n",
    "\n",
    "**q14:** Which feature provides the biggest contribution to the prediction for the described observation?\n",
    "\n",
    "Look at the description of this feature. How do you think - why it can be considered as an important feature for the model?"
   ]
  },
  {
   "cell_type": "code",
   "execution_count": null,
   "metadata": {
    "id": "K44rN2dgU3gR"
   },
   "outputs": [],
   "source": [
    "# your code here"
   ]
  },
  {
   "cell_type": "markdown",
   "metadata": {
    "id": "RMZi1e6qBStz"
   },
   "source": [
    "## 15\n",
    "\n",
    "Finally, visualize a bar plot of mean absolute values of the SHAP values for each feature in the validation set (`features=X_val`). To do this, you can use `shap.summary_plot` function. Pass the computed SHAP values in the task 14 into it. Use `plot_type='bar'` to obtain a bar plot and other default parameter values.\n",
    "\n",
    "**q15:** What is the THIRD most important feature overall, according to SHAP values?\n",
    "\n",
    "Look at the description of this feature. How do you think - why it can be considered as an important feature for the model?"
   ]
  },
  {
   "cell_type": "code",
   "execution_count": null,
   "metadata": {
    "id": "DTirHK70U5l5"
   },
   "outputs": [],
   "source": [
    "# your code here"
   ]
  }
 ],
 "metadata": {
  "colab": {
   "authorship_tag": "ABX9TyO3RWCOD+t8vIWNtyxiSSUk",
   "collapsed_sections": [],
   "name": "Week3_practice.ipynb",
   "provenance": []
  },
  "coursera": {
   "schema_names": [
    "model-verification-task-week-2"
   ]
  },
  "kernelspec": {
   "display_name": "Python 3",
   "language": "python",
   "name": "python3"
  },
  "language_info": {
   "codemirror_mode": {
    "name": "ipython",
    "version": 3
   },
   "file_extension": ".py",
   "mimetype": "text/x-python",
   "name": "python",
   "nbconvert_exporter": "python",
   "pygments_lexer": "ipython3",
   "version": "3.8.8"
  }
 },
 "nbformat": 4,
 "nbformat_minor": 1
}
